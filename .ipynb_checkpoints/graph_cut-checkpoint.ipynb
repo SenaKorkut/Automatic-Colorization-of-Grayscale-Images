{
 "cells": [
  {
   "cell_type": "code",
   "execution_count": 26,
   "metadata": {},
   "outputs": [
    {
     "name": "stdout",
     "output_type": "stream",
     "text": [
      "Requirement already satisfied: opencv-python in /home/duygu/anaconda3/lib/python3.7/site-packages (4.2.0.34)\r\n",
      "Requirement already satisfied: numpy>=1.14.5 in /home/duygu/anaconda3/lib/python3.7/site-packages (from opencv-python) (1.18.1)\r\n"
     ]
    }
   ],
   "source": [
    "!pip install opencv-python\n",
    "#!pip install opencv-python==3.4.2.16\n",
    "#!pip install opencv-contrib-python==3.4.2.16\n",
    "import cv2\n",
    "import numpy as np\n",
    "import pygco\n",
    "import math"
   ]
  },
  {
   "cell_type": "code",
   "execution_count": 27,
   "metadata": {},
   "outputs": [],
   "source": [
    "def get_edges(image):\n",
    "    vh = cv2.Sobel(image, cv2.CV_64F, 1, 0, ksize=5)#hyperparameter 5\n",
    "    vv = cv2.Sobel(image, cv2.CV_64F, 0, 1, ksize=5)#hyperparameter 5\n",
    "    color_variations = np.zeros(np.shape(vh))\n",
    "    for row in range(np.shape(vh)[0]):\n",
    "    \tfor col in range(np.shape(vh)[1]):\n",
    "    \t\tcolor_variations[row,col] = math.sqrt(vh[row,col]**2 + vv[row,col]**2)\n",
    "            #color_variations[row,col] = vh[row,col]*0.5 + vv[row,col]*0.5\n",
    "    return color_variations"
   ]
  },
  {
   "cell_type": "code",
   "execution_count": 28,
   "metadata": {},
   "outputs": [],
   "source": [
    "def get_edges2(image, blur_width=3):\n",
    "        img_blurred = cv2.GaussianBlur(image, (0, 0), blur_width)\n",
    "        vh = cv2.Sobel(img_blurred, -1, 1, 0)\n",
    "        vv = cv2.Sobel(img_blurred, -1, 0, 1)\n",
    "\n",
    "        #vh = vh/np.max(vh)\n",
    "        #vv = vv/np.max(vv)\n",
    "\n",
    "        v = 0.5*vv + 0.5*vh\n",
    "        \n",
    "        return v"
   ]
  },
  {
   "cell_type": "code",
   "execution_count": 29,
   "metadata": {},
   "outputs": [],
   "source": [
    "def get_pairwise_costs(centroids, centroid_num, l = 1):\n",
    "\tpairwise_costs = np.zeros((centroid_num, centroid_num))\n",
    "\tfor i in range(centroid_num):\n",
    "\t\tfor j in range(centroid_num):\n",
    "\t\t\tc1 = np.array(centroids[i])\n",
    "\t\t\tc2 = np.array(centroids[j])\n",
    "\t\t\tpairwise_costs[i,j] = np.linalg.norm(c1-c2)\n",
    "\treturn (l*pairwise_costs).astype('int32')"
   ]
  },
  {
   "cell_type": "code",
   "execution_count": 2,
   "metadata": {},
   "outputs": [
    {
     "ename": "SyntaxError",
     "evalue": "invalid syntax (<ipython-input-2-2b1c5709d0b5>, line 5)",
     "output_type": "error",
     "traceback": [
      "\u001b[0;36m  File \u001b[0;32m\"<ipython-input-2-2b1c5709d0b5>\"\u001b[0;36m, line \u001b[0;32m5\u001b[0m\n\u001b[0;31m    if  color_vars[r1, c1] == 0 || color_vars[r2, c2] == 0\u001b[0m\n\u001b[0m                                 ^\u001b[0m\n\u001b[0;31mSyntaxError\u001b[0m\u001b[0;31m:\u001b[0m invalid syntax\n"
     ]
    }
   ],
   "source": [
    "def get_index(r, c, col_no):\n",
    "    return r*col_no + c\n",
    "\n",
    "def get_weight(r1,c1,r2,c2,color_vars):\n",
    "    if  color_vars[r1, c1] == 0 or color_vars[r2, c2] == 0:\n",
    "        return int(100000000000)\n",
    "    return int((color_vars[r1, c1] + color_vars[r2, c2])/2)\n",
    "    return int((1. / color_vars[r1, c1] + 1. / color_vars[r2, c2]) / 2.)"
   ]
  },
  {
   "cell_type": "code",
   "execution_count": 31,
   "metadata": {},
   "outputs": [],
   "source": [
    "def graph_cut(image, unary_costs, centroids, centroid_num, alpha = 128):\n",
    "\t\n",
    "    #get color variations\n",
    "    color_vars = get_edges(image)\n",
    "    \n",
    "    #unary costs is a 3d matrix\n",
    "    #make it 2d, each row is unary cost of a pixel now.\n",
    "    row_no = np.shape(unary_costs)[0]\n",
    "    col_no = np.shape(unary_costs)[1]\n",
    "    unary_cost_list = np.zeros((row_no*col_no, np.shape(unary_costs)[2]))\n",
    "    \n",
    "\n",
    "    edges =[]\n",
    "    for r in range(row_no):\n",
    "        for c in range(col_no):\n",
    "            unary_cost_list[get_index(r, c, col_no), :] = unary_costs[r, c, :]\n",
    "\n",
    "            row_safe = r != row_no - 1\n",
    "            col_safe = c != col_no - 1\n",
    "            if (row_safe):\n",
    "                edges.append([get_index(r,c,col_no), get_index(r+1,c,col_no), get_weight(r,c,r+1,c,color_vars)])\n",
    "            if (col_safe):\n",
    "                edges.append([get_index(r,c,col_no), get_index(r,c+1,col_no), get_weight(r,c,r,c+1,color_vars)])\n",
    "            if (row_safe and col_safe):\n",
    "                edges.append([get_index(r,c+1,col_no), get_index(r+1,c,col_no), get_weight(r,c+1,r+1,c,color_vars)])\n",
    "                edges.append([get_index(r+1,c,col_no), get_index(r,c+1,col_no), get_weight(r+1,c,r,c+1,color_vars)])\n",
    "\n",
    "    edges_int32 = np.array(edges).astype('int32')\n",
    "    pairwise_costs_int32 = get_pairwise_costs(centroids, centroid_num)\n",
    "    unary_cost_list_int32 = (alpha*unary_cost_list).astype('int32')\n",
    "    \n",
    "    #perform graphcut optimization\n",
    "    labels_list = pygco.cut_from_graph(edges_int32, unary_cost_list_int32, pairwise_costs_int32, n_iter=-1, algorithm='swap')\n",
    "\n",
    "    labels = np.zeros((row_no, col_no))\n",
    "    for r in range(row_no):\n",
    "        for c in range(col_no):\n",
    "            labels[r,c] = labels_list[get_index(r,c,col_no)]\n",
    "\n",
    "    return labels.astype('int')"
   ]
  },
  {
   "cell_type": "code",
   "execution_count": 32,
   "metadata": {},
   "outputs": [],
   "source": [
    "def graph_cut2(image, unary_costs, centroids, centroid_num,alpha=128):\n",
    "    \n",
    "    #get color variations\n",
    "    color_vars = get_edges2(image)\n",
    "    \n",
    "    #calculate pairwise potiential costs (distance between color classes)\n",
    "    pairwise_costs_int32 = get_pairwise_costs(centroids, centroid_num)\n",
    "    \n",
    "    unary_costs_int32 = (alpha*unary_costs).astype('int32')#alpha 128\n",
    "    \n",
    "    edgesY_int32 = color_vars.astype('int32')\n",
    "    edgesX_int32 = color_vars.astype('int32')\n",
    "    \n",
    "    #perform graphcut optimization\n",
    "    labels = pygco.cut_simple_vh(unary_costs_int32, pairwise_costs_int32, edgesY_int32, edgesX_int32, n_iter=10, algorithm='swap') \n",
    "\n",
    "    return labels"
   ]
  },
  {
   "cell_type": "code",
   "execution_count": null,
   "metadata": {},
   "outputs": [],
   "source": []
  },
  {
   "cell_type": "code",
   "execution_count": null,
   "metadata": {},
   "outputs": [],
   "source": []
  },
  {
   "cell_type": "code",
   "execution_count": null,
   "metadata": {},
   "outputs": [],
   "source": []
  }
 ],
 "metadata": {
  "kernelspec": {
   "display_name": "Python 3",
   "language": "python",
   "name": "python3"
  },
  "language_info": {
   "codemirror_mode": {
    "name": "ipython",
    "version": 3
   },
   "file_extension": ".py",
   "mimetype": "text/x-python",
   "name": "python",
   "nbconvert_exporter": "python",
   "pygments_lexer": "ipython3",
   "version": "3.7.3"
  }
 },
 "nbformat": 4,
 "nbformat_minor": 4
}
