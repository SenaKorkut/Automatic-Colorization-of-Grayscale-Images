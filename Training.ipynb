{
 "cells": [
  {
   "cell_type": "code",
   "execution_count": 1,
   "metadata": {},
   "outputs": [
    {
     "name": "stdout",
     "output_type": "stream",
     "text": [
      "Requirement already satisfied: import_ipynb in /anaconda3/lib/python3.7/site-packages (0.1.3)\n",
      "Note: you may need to restart the kernel to use updated packages.\n"
     ]
    }
   ],
   "source": [
    "pip install import_ipynb"
   ]
  },
  {
   "cell_type": "code",
   "execution_count": 10,
   "metadata": {},
   "outputs": [
    {
     "name": "stdout",
     "output_type": "stream",
     "text": [
      "Requirement already satisfied: opencv-python==3.4.2.16 in /anaconda3/lib/python3.7/site-packages (3.4.2.16)\n",
      "Requirement already satisfied: numpy>=1.14.5 in /anaconda3/lib/python3.7/site-packages (from opencv-python==3.4.2.16) (1.16.2)\n",
      "Requirement already satisfied: opencv-contrib-python==3.4.2.16 in /anaconda3/lib/python3.7/site-packages (3.4.2.16)\n",
      "Requirement already satisfied: numpy>=1.14.5 in /anaconda3/lib/python3.7/site-packages (from opencv-contrib-python==3.4.2.16) (1.16.2)\n",
      "Requirement already satisfied: opencv-python==3.4.2.16 in /anaconda3/lib/python3.7/site-packages (3.4.2.16)\n",
      "Requirement already satisfied: numpy>=1.14.5 in /anaconda3/lib/python3.7/site-packages (from opencv-python==3.4.2.16) (1.16.2)\n",
      "Requirement already satisfied: opencv-contrib-python==3.4.2.16 in /anaconda3/lib/python3.7/site-packages (3.4.2.16)\n",
      "Requirement already satisfied: numpy>=1.14.5 in /anaconda3/lib/python3.7/site-packages (from opencv-contrib-python==3.4.2.16) (1.16.2)\n"
     ]
    }
   ],
   "source": [
    "%run preprocess.ipynb\n",
    "%run clustering.ipynb"
   ]
  },
  {
   "cell_type": "code",
   "execution_count": 11,
   "metadata": {},
   "outputs": [],
   "source": [
    "def create_train_set(filename):\n",
    "    size = 600, 400\n",
    "    im = Image.open(filename)\n",
    "    im_resized = im.resize(size, Image.ANTIALIAS)\n",
    "    im_lab = cv2.cvtColor(np.array(im_resized),cv2.COLOR_BGR2LAB)\n",
    "    im_lab_np = np.array(im_lab)\n",
    "    grayscale_img = im_lab[:,:,0]\n",
    "    y,centers = create_label(im_lab_np,32)#number of colors\n",
    "    feature_vector = all_feature_vector(grayscale_img,15)#window\n",
    "    np.random.shuffle(np.transpose(feature_vector))\n",
    "    np.random.shuffle(np.transpose(feature_vector))\n",
    "    u,e,v, = pca(feature_vector[:,0:1000])\n",
    "    np.transpose(u)\n",
    "    x = np.dot(u[:30,:],feature_vector)#30 handle %70 variance\n",
    "    return x , y,centers"
   ]
  },
  {
   "cell_type": "code",
   "execution_count": null,
   "metadata": {},
   "outputs": [],
   "source": [
    "x,y,centers = create_train_set(\"try1.jpg\")"
   ]
  },
  {
   "cell_type": "code",
   "execution_count": 21,
   "metadata": {},
   "outputs": [],
   "source": [
    "a = np.random.rand(612,5000)"
   ]
  },
  {
   "cell_type": "code",
   "execution_count": 22,
   "metadata": {},
   "outputs": [],
   "source": [
    "u,e,v = pca(a[:,0:100])"
   ]
  },
  {
   "cell_type": "code",
   "execution_count": 28,
   "metadata": {},
   "outputs": [
    {
     "data": {
      "text/plain": [
       "(612, 612)"
      ]
     },
     "execution_count": 28,
     "metadata": {},
     "output_type": "execute_result"
    }
   ],
   "source": [
    "u.shape"
   ]
  },
  {
   "cell_type": "code",
   "execution_count": 26,
   "metadata": {},
   "outputs": [],
   "source": [
    "np.random.shuffle(np.transpose(a))"
   ]
  },
  {
   "cell_type": "code",
   "execution_count": 12,
   "metadata": {},
   "outputs": [
    {
     "data": {
      "text/plain": [
       "array([[0.3110957 , 0.77540928, 0.68252961, 0.92771283],\n",
       "       [0.3743026 , 0.55694857, 0.12496445, 0.32473721],\n",
       "       [0.36252657, 0.81303049, 0.54839311, 0.55290274]])"
      ]
     },
     "execution_count": 12,
     "metadata": {},
     "output_type": "execute_result"
    }
   ],
   "source": [
    "a"
   ]
  },
  {
   "cell_type": "code",
   "execution_count": null,
   "metadata": {},
   "outputs": [],
   "source": []
  }
 ],
 "metadata": {
  "@webio": {
   "lastCommId": null,
   "lastKernelId": null
  },
  "kernelspec": {
   "display_name": "Python 3",
   "language": "python",
   "name": "python3"
  }
 },
 "nbformat": 4,
 "nbformat_minor": 2
}
