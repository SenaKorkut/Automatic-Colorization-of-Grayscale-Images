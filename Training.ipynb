{
  "nbformat": 4,
  "nbformat_minor": 0,
  "metadata": {
    "@webio": {
      "lastCommId": null,
      "lastKernelId": null
    },
    "kernelspec": {
      "display_name": "Python 3",
      "language": "python",
      "name": "python3"
    },
    "colab": {
      "name": "Training.ipynb",
      "provenance": []
    }
  },
<<<<<<< HEAD
  {
   "cell_type": "code",
   "execution_count": 17,
   "metadata": {},
   "outputs": [
    {
     "name": "stdout",
     "output_type": "stream",
     "text": [
      "Requirement already satisfied: opencv-python==3.4.2.16 in /anaconda3/lib/python3.7/site-packages (3.4.2.16)\n",
      "Requirement already satisfied: numpy>=1.14.5 in /anaconda3/lib/python3.7/site-packages (from opencv-python==3.4.2.16) (1.16.2)\n",
      "Requirement already satisfied: opencv-contrib-python==3.4.2.16 in /anaconda3/lib/python3.7/site-packages (3.4.2.16)\n",
      "Requirement already satisfied: numpy>=1.14.5 in /anaconda3/lib/python3.7/site-packages (from opencv-contrib-python==3.4.2.16) (1.16.2)\n",
      "Requirement already satisfied: opencv-python==3.4.2.16 in /anaconda3/lib/python3.7/site-packages (3.4.2.16)\n",
      "Requirement already satisfied: numpy>=1.14.5 in /anaconda3/lib/python3.7/site-packages (from opencv-python==3.4.2.16) (1.16.2)\n",
      "Requirement already satisfied: opencv-contrib-python==3.4.2.16 in /anaconda3/lib/python3.7/site-packages (3.4.2.16)\n",
      "Requirement already satisfied: numpy>=1.14.5 in /anaconda3/lib/python3.7/site-packages (from opencv-contrib-python==3.4.2.16) (1.16.2)\n"
     ]
    }
   ],
   "source": [
    "%run preprocess.ipynb\n",
    "%run clustering.ipynb"
   ]
  },
  {
   "cell_type": "code",
   "execution_count": 18,
   "metadata": {},
   "outputs": [],
   "source": [
    "def create_train_set(filename):\n",
    "    size = 600, 400\n",
    "    im = Image.open(filename)\n",
    "    im_resized = im.resize(size, Image.ANTIALIAS)\n",
    "    im_lab = cv2.cvtColor(np.array(im_resized),cv2.COLOR_BGR2LAB)\n",
    "    im_lab_np = np.array(im_lab)\n",
    "    grayscale_img = im_lab[:,:,0]\n",
    "    y,centers = create_label(im_lab_np,32)#number of colors\n",
    "    print(y.shape)\n",
    "    feature_vector = all_feature_vector(grayscale_img,15)#window\n",
    "    np.random.shuffle(np.transpose(feature_vector))\n",
    "    np.random.shuffle(np.transpose(feature_vector))\n",
    "    u,e,v, = pca(feature_vector[:,0:10000])\n",
    "    np.transpose(u)\n",
    "    x = np.dot(u[:30,:],feature_vector)#30 handle %70 variance\n",
    "    return x , y,centers"
   ]
  },
  {
   "cell_type": "code",
   "execution_count": 19,
   "metadata": {},
   "outputs": [
    {
     "name": "stdout",
     "output_type": "stream",
     "text": [
      "(240000,)\n"
     ]
    }
   ],
   "source": [
    "x, y,centers = create_train_set(\"try1.jpg\")"
   ]
  },
  {
   "cell_type": "code",
   "execution_count": 21,
   "metadata": {},
   "outputs": [],
   "source": [
    "a = np.random.rand(612,5000)"
   ]
  },
  {
   "cell_type": "code",
   "execution_count": 22,
   "metadata": {},
   "outputs": [],
   "source": [
    "u,e,v = pca(a[:,0:100])"
   ]
  },
  {
   "cell_type": "code",
   "execution_count": 28,
   "metadata": {},
   "outputs": [
=======
  "cells": [
    {
      "cell_type": "code",
      "metadata": {
        "id": "7A5AQFRCXpTw",
        "colab_type": "code",
        "colab": {},
        "outputId": "0372247a-e787-44ce-adba-a1c763ba74f2"
      },
      "source": [
        "pip install import_ipynb"
      ],
      "execution_count": 0,
      "outputs": [
        {
          "output_type": "stream",
          "text": [
            "Requirement already satisfied: import_ipynb in /anaconda3/lib/python3.7/site-packages (0.1.3)\n",
            "Note: you may need to restart the kernel to use updated packages.\n"
          ],
          "name": "stdout"
        }
      ]
    },
    {
      "cell_type": "code",
      "metadata": {
        "id": "uAzzi9wbXpT3",
        "colab_type": "code",
        "colab": {},
        "outputId": "ee081929-24d0-468c-8857-c4e54ce073a5"
      },
      "source": [
        "%run preprocess.ipynb\n",
        "%run clustering.ipynb"
      ],
      "execution_count": 0,
      "outputs": [
        {
          "output_type": "stream",
          "text": [
            "Requirement already satisfied: opencv-python==3.4.2.16 in /anaconda3/lib/python3.7/site-packages (3.4.2.16)\n",
            "Requirement already satisfied: numpy>=1.14.5 in /anaconda3/lib/python3.7/site-packages (from opencv-python==3.4.2.16) (1.16.2)\n",
            "Requirement already satisfied: opencv-contrib-python==3.4.2.16 in /anaconda3/lib/python3.7/site-packages (3.4.2.16)\n",
            "Requirement already satisfied: numpy>=1.14.5 in /anaconda3/lib/python3.7/site-packages (from opencv-contrib-python==3.4.2.16) (1.16.2)\n",
            "Requirement already satisfied: opencv-python==3.4.2.16 in /anaconda3/lib/python3.7/site-packages (3.4.2.16)\n",
            "Requirement already satisfied: numpy>=1.14.5 in /anaconda3/lib/python3.7/site-packages (from opencv-python==3.4.2.16) (1.16.2)\n",
            "Requirement already satisfied: opencv-contrib-python==3.4.2.16 in /anaconda3/lib/python3.7/site-packages (3.4.2.16)\n",
            "Requirement already satisfied: numpy>=1.14.5 in /anaconda3/lib/python3.7/site-packages (from opencv-contrib-python==3.4.2.16) (1.16.2)\n"
          ],
          "name": "stdout"
        }
      ]
    },
    {
      "cell_type": "code",
      "metadata": {
        "id": "1g2pLU_fXpT8",
        "colab_type": "code",
        "colab": {}
      },
      "source": [
        "def create_train_set(filename):\n",
        "    size = 600, 400\n",
        "    im = Image.open(filename)\n",
        "    im_resized = im.resize(size, Image.ANTIALIAS)\n",
        "    im_lab = cv2.cvtColor(np.array(im_resized),cv2.COLOR_BGR2LAB)\n",
        "    im_lab_np = np.array(im_lab)\n",
        "    grayscale_img = im_lab[:,:,0]\n",
        "    y = create_label(im_lab_np,32)#number of colors\n",
        "    feature_vector = all_feature_vector(grayscale_img,15)#window\n",
        "    np.random.shuffle(np.transpose(feature_vector))\n",
        "    np.random.shuffle(np.transpose(feature_vector))\n",
        "    u,e,v, = pca(vector[:,0:10000])\n",
        "    np.transpose(u)\n",
        "    x = np.dot(u[:30,:],feature_vector)#30 handle %70 variance\n",
        "    return x , y"
      ],
      "execution_count": 0,
      "outputs": []
    },
>>>>>>> b0b552b346a9a097de76d6387bbbea3115b1fafb
    {
      "cell_type": "code",
      "metadata": {
        "id": "I90N3TbOXpUB",
        "colab_type": "code",
        "colab": {},
        "outputId": "af6c36c9-1c3d-4732-e021-25de87bc21d8"
      },
      "source": [
        "create_train_set(\"try1.jpg\")"
      ],
      "execution_count": 0,
      "outputs": [
        {
          "output_type": "error",
          "ename": "KeyboardInterrupt",
          "evalue": "",
          "traceback": [
            "\u001b[0;31m---------------------------------------------------------------------------\u001b[0m",
            "\u001b[0;31mKeyboardInterrupt\u001b[0m                         Traceback (most recent call last)",
            "\u001b[0;32m<ipython-input-4-da0d1e4b57a3>\u001b[0m in \u001b[0;36m<module>\u001b[0;34m\u001b[0m\n\u001b[0;32m----> 1\u001b[0;31m \u001b[0mcreate_train_set\u001b[0m\u001b[0;34m(\u001b[0m\u001b[0;34m\"try1.jpg\"\u001b[0m\u001b[0;34m)\u001b[0m\u001b[0;34m\u001b[0m\u001b[0;34m\u001b[0m\u001b[0m\n\u001b[0m",
            "\u001b[0;32m<ipython-input-3-7faee3608553>\u001b[0m in \u001b[0;36mcreate_train_set\u001b[0;34m(filename)\u001b[0m\n\u001b[1;32m      7\u001b[0m     \u001b[0mgrayscale_img\u001b[0m \u001b[0;34m=\u001b[0m \u001b[0mim_lab\u001b[0m\u001b[0;34m[\u001b[0m\u001b[0;34m:\u001b[0m\u001b[0;34m,\u001b[0m\u001b[0;34m:\u001b[0m\u001b[0;34m,\u001b[0m\u001b[0;36m0\u001b[0m\u001b[0;34m]\u001b[0m\u001b[0;34m\u001b[0m\u001b[0;34m\u001b[0m\u001b[0m\n\u001b[1;32m      8\u001b[0m     \u001b[0my\u001b[0m \u001b[0;34m=\u001b[0m \u001b[0mcreate_label\u001b[0m\u001b[0;34m(\u001b[0m\u001b[0mim_lab_np\u001b[0m\u001b[0;34m,\u001b[0m\u001b[0;36m32\u001b[0m\u001b[0;34m)\u001b[0m\u001b[0;31m#number of colors\u001b[0m\u001b[0;34m\u001b[0m\u001b[0;34m\u001b[0m\u001b[0m\n\u001b[0;32m----> 9\u001b[0;31m     \u001b[0mfeature_vector\u001b[0m \u001b[0;34m=\u001b[0m \u001b[0mall_feature_vector\u001b[0m\u001b[0;34m(\u001b[0m\u001b[0mgrayscale_img\u001b[0m\u001b[0;34m,\u001b[0m\u001b[0;36m15\u001b[0m\u001b[0;34m)\u001b[0m\u001b[0;31m#window\u001b[0m\u001b[0;34m\u001b[0m\u001b[0;34m\u001b[0m\u001b[0m\n\u001b[0m\u001b[1;32m     10\u001b[0m     \u001b[0mnp\u001b[0m\u001b[0;34m.\u001b[0m\u001b[0mrandom\u001b[0m\u001b[0;34m.\u001b[0m\u001b[0mshuffle\u001b[0m\u001b[0;34m(\u001b[0m\u001b[0mnp\u001b[0m\u001b[0;34m.\u001b[0m\u001b[0mtranspose\u001b[0m\u001b[0;34m(\u001b[0m\u001b[0mfeature_vector\u001b[0m\u001b[0;34m)\u001b[0m\u001b[0;34m)\u001b[0m\u001b[0;34m\u001b[0m\u001b[0;34m\u001b[0m\u001b[0m\n\u001b[1;32m     11\u001b[0m     \u001b[0mnp\u001b[0m\u001b[0;34m.\u001b[0m\u001b[0mrandom\u001b[0m\u001b[0;34m.\u001b[0m\u001b[0mshuffle\u001b[0m\u001b[0;34m(\u001b[0m\u001b[0mnp\u001b[0m\u001b[0;34m.\u001b[0m\u001b[0mtranspose\u001b[0m\u001b[0;34m(\u001b[0m\u001b[0mfeature_vector\u001b[0m\u001b[0;34m)\u001b[0m\u001b[0;34m)\u001b[0m\u001b[0;34m\u001b[0m\u001b[0;34m\u001b[0m\u001b[0m\n",
            "\u001b[0;32m<ipython-input-2-50e2fbe29fd8>\u001b[0m in \u001b[0;36mall_feature_vector\u001b[0;34m(grayscale_img, window)\u001b[0m\n\u001b[1;32m      7\u001b[0m     \u001b[0;32mfor\u001b[0m \u001b[0mr\u001b[0m \u001b[0;32min\u001b[0m \u001b[0mrange\u001b[0m\u001b[0;34m(\u001b[0m\u001b[0mint\u001b[0m\u001b[0;34m(\u001b[0m\u001b[0mwindow\u001b[0m\u001b[0;34m/\u001b[0m\u001b[0;36m2\u001b[0m\u001b[0;34m)\u001b[0m\u001b[0;34m,\u001b[0m \u001b[0mx\u001b[0m\u001b[0;34m-\u001b[0m\u001b[0mint\u001b[0m\u001b[0;34m(\u001b[0m\u001b[0mwindow\u001b[0m\u001b[0;34m/\u001b[0m\u001b[0;36m2\u001b[0m\u001b[0;34m)\u001b[0m\u001b[0;34m)\u001b[0m\u001b[0;34m:\u001b[0m\u001b[0;34m\u001b[0m\u001b[0;34m\u001b[0m\u001b[0m\n\u001b[1;32m      8\u001b[0m         \u001b[0;32mfor\u001b[0m \u001b[0mc\u001b[0m \u001b[0;32min\u001b[0m \u001b[0mrange\u001b[0m\u001b[0;34m(\u001b[0m\u001b[0mint\u001b[0m\u001b[0;34m(\u001b[0m\u001b[0mwindow\u001b[0m\u001b[0;34m/\u001b[0m\u001b[0;36m2\u001b[0m\u001b[0;34m)\u001b[0m\u001b[0;34m,\u001b[0m \u001b[0my\u001b[0m\u001b[0;34m-\u001b[0m\u001b[0mint\u001b[0m\u001b[0;34m(\u001b[0m\u001b[0mwindow\u001b[0m\u001b[0;34m/\u001b[0m\u001b[0;36m2\u001b[0m\u001b[0;34m)\u001b[0m\u001b[0;34m)\u001b[0m\u001b[0;34m:\u001b[0m\u001b[0;34m\u001b[0m\u001b[0;34m\u001b[0m\u001b[0m\n\u001b[0;32m----> 9\u001b[0;31m             \u001b[0mpixel_vector\u001b[0m \u001b[0;34m=\u001b[0m \u001b[0mfeature_vector\u001b[0m\u001b[0;34m(\u001b[0m\u001b[0mr\u001b[0m\u001b[0;34m,\u001b[0m\u001b[0mc\u001b[0m\u001b[0;34m,\u001b[0m\u001b[0mwindow\u001b[0m\u001b[0;34m,\u001b[0m\u001b[0mgrayscale_img\u001b[0m\u001b[0;34m)\u001b[0m\u001b[0;34m\u001b[0m\u001b[0;34m\u001b[0m\u001b[0m\n\u001b[0m\u001b[1;32m     10\u001b[0m             \u001b[0mfeature\u001b[0m\u001b[0;34m[\u001b[0m\u001b[0;34m:\u001b[0m\u001b[0;34m,\u001b[0m\u001b[0mcount\u001b[0m\u001b[0;34m]\u001b[0m \u001b[0;34m=\u001b[0m \u001b[0mpixel_vector\u001b[0m\u001b[0;34m\u001b[0m\u001b[0;34m\u001b[0m\u001b[0m\n\u001b[1;32m     11\u001b[0m             \u001b[0mcount\u001b[0m \u001b[0;34m=\u001b[0m \u001b[0mcount\u001b[0m \u001b[0;34m+\u001b[0m\u001b[0;36m1\u001b[0m\u001b[0;34m\u001b[0m\u001b[0;34m\u001b[0m\u001b[0m\n",
            "\u001b[0;32m<ipython-input-2-c4c2e9f8ae98>\u001b[0m in \u001b[0;36mfeature_vector\u001b[0;34m(x, y, window, grayscale_img)\u001b[0m\n\u001b[1;32m      4\u001b[0m     \u001b[0mftf\u001b[0m \u001b[0;34m=\u001b[0m \u001b[0mcreate_ftf_vector\u001b[0m\u001b[0;34m(\u001b[0m\u001b[0mx\u001b[0m\u001b[0;34m,\u001b[0m\u001b[0my\u001b[0m\u001b[0;34m,\u001b[0m\u001b[0mwindow\u001b[0m\u001b[0;34m,\u001b[0m\u001b[0mgrayscale_img\u001b[0m\u001b[0;34m)\u001b[0m\u001b[0;34m\u001b[0m\u001b[0;34m\u001b[0m\u001b[0m\n\u001b[1;32m      5\u001b[0m     \u001b[0msurf1\u001b[0m \u001b[0;34m=\u001b[0m \u001b[0mcreate_surf_vector\u001b[0m\u001b[0;34m(\u001b[0m\u001b[0mx\u001b[0m\u001b[0;34m,\u001b[0m\u001b[0my\u001b[0m\u001b[0;34m,\u001b[0m\u001b[0mwindow\u001b[0m\u001b[0;34m,\u001b[0m\u001b[0mgrayscale_img\u001b[0m\u001b[0;34m)\u001b[0m\u001b[0;34m\u001b[0m\u001b[0;34m\u001b[0m\u001b[0m\n\u001b[0;32m----> 6\u001b[0;31m     \u001b[0msurf2\u001b[0m \u001b[0;34m=\u001b[0m \u001b[0mcreate_surf_vector\u001b[0m\u001b[0;34m(\u001b[0m\u001b[0mx\u001b[0m\u001b[0;34m,\u001b[0m\u001b[0my\u001b[0m\u001b[0;34m,\u001b[0m\u001b[0mwindow\u001b[0m\u001b[0;34m,\u001b[0m\u001b[0mcv2\u001b[0m\u001b[0;34m.\u001b[0m\u001b[0mGaussianBlur\u001b[0m\u001b[0;34m(\u001b[0m\u001b[0mgrayscale_img\u001b[0m\u001b[0;34m,\u001b[0m \u001b[0;34m(\u001b[0m\u001b[0;36m0\u001b[0m\u001b[0;34m,\u001b[0m \u001b[0;36m0\u001b[0m\u001b[0;34m)\u001b[0m\u001b[0;34m,\u001b[0m \u001b[0msigma1\u001b[0m\u001b[0;34m)\u001b[0m\u001b[0;34m)\u001b[0m\u001b[0;34m\u001b[0m\u001b[0;34m\u001b[0m\u001b[0m\n\u001b[0m\u001b[1;32m      7\u001b[0m     \u001b[0msurf3\u001b[0m \u001b[0;34m=\u001b[0m \u001b[0mcreate_surf_vector\u001b[0m\u001b[0;34m(\u001b[0m\u001b[0mx\u001b[0m\u001b[0;34m,\u001b[0m\u001b[0my\u001b[0m\u001b[0;34m,\u001b[0m\u001b[0mwindow\u001b[0m\u001b[0;34m,\u001b[0m\u001b[0mcv2\u001b[0m\u001b[0;34m.\u001b[0m\u001b[0mGaussianBlur\u001b[0m\u001b[0;34m(\u001b[0m\u001b[0mgrayscale_img\u001b[0m\u001b[0;34m,\u001b[0m \u001b[0;34m(\u001b[0m\u001b[0;36m0\u001b[0m\u001b[0;34m,\u001b[0m \u001b[0;36m0\u001b[0m\u001b[0;34m)\u001b[0m\u001b[0;34m,\u001b[0m \u001b[0msigma2\u001b[0m\u001b[0;34m)\u001b[0m\u001b[0;34m)\u001b[0m\u001b[0;34m\u001b[0m\u001b[0;34m\u001b[0m\u001b[0m\n\u001b[1;32m      8\u001b[0m     \u001b[0mmean_var\u001b[0m \u001b[0;34m=\u001b[0m \u001b[0mcreate_meanvar_vector\u001b[0m\u001b[0;34m(\u001b[0m\u001b[0mx\u001b[0m\u001b[0;34m,\u001b[0m\u001b[0my\u001b[0m\u001b[0;34m,\u001b[0m\u001b[0mwindow\u001b[0m\u001b[0;34m,\u001b[0m\u001b[0mgrayscale_img\u001b[0m\u001b[0;34m)\u001b[0m\u001b[0;34m\u001b[0m\u001b[0;34m\u001b[0m\u001b[0m\n",
            "\u001b[0;31mKeyboardInterrupt\u001b[0m: "
          ]
        }
      ]
    },
    {
      "cell_type": "code",
      "metadata": {
        "id": "rGpir6NnXpUE",
        "colab_type": "code",
        "colab": {}
      },
      "source": [
        "a = np.random.rand(612,5000)"
      ],
      "execution_count": 0,
      "outputs": []
    },
    {
      "cell_type": "code",
      "metadata": {
        "id": "HyoOP6pxXpUH",
        "colab_type": "code",
        "colab": {}
      },
      "source": [
        "u,e,v = pca(a[:,0:100])"
      ],
      "execution_count": 0,
      "outputs": []
    },
    {
      "cell_type": "code",
      "metadata": {
        "id": "OfzZiGc7XpUM",
        "colab_type": "code",
        "colab": {},
        "outputId": "89081dff-b396-4946-b46d-c35a5be9d12c"
      },
      "source": [
        "u.shape"
      ],
      "execution_count": 0,
      "outputs": [
        {
          "output_type": "execute_result",
          "data": {
            "text/plain": [
              "(612, 612)"
            ]
          },
          "metadata": {
            "tags": []
          },
          "execution_count": 28
        }
      ]
    },
    {
      "cell_type": "code",
      "metadata": {
        "id": "BrsjlWkaXpUS",
        "colab_type": "code",
        "colab": {}
      },
      "source": [
        "np.random.shuffle(np.transpose(a))"
      ],
      "execution_count": 0,
      "outputs": []
    },
    {
      "cell_type": "code",
      "metadata": {
        "id": "O3qtZZsHXpUW",
        "colab_type": "code",
        "colab": {},
        "outputId": "92ca80d6-38a3-409f-b388-a1de7029999b"
      },
      "source": [
        "a"
      ],
      "execution_count": 0,
      "outputs": [
        {
          "output_type": "execute_result",
          "data": {
            "text/plain": [
              "array([[0.3110957 , 0.77540928, 0.68252961, 0.92771283],\n",
              "       [0.3743026 , 0.55694857, 0.12496445, 0.32473721],\n",
              "       [0.36252657, 0.81303049, 0.54839311, 0.55290274]])"
            ]
          },
          "metadata": {
            "tags": []
          },
          "execution_count": 12
        }
      ]
    },
    {
      "cell_type": "code",
      "metadata": {
        "id": "6iyNvpFVXpUb",
        "colab_type": "code",
        "colab": {}
      },
      "source": [
        ""
      ],
      "execution_count": 0,
      "outputs": []
    }
<<<<<<< HEAD
   ],
   "source": [
    "a"
   ]
  },
  {
   "cell_type": "code",
   "execution_count": 22,
   "metadata": {},
   "outputs": [
    {
     "data": {
      "text/plain": [
       "(30, 226196)"
      ]
     },
     "execution_count": 22,
     "metadata": {},
     "output_type": "execute_result"
    }
   ],
   "source": [
    "x.shape"
   ]
  },
  {
   "cell_type": "code",
   "execution_count": 23,
   "metadata": {},
   "outputs": [
    {
     "data": {
      "text/plain": [
       "(240000,)"
      ]
     },
     "execution_count": 23,
     "metadata": {},
     "output_type": "execute_result"
    }
   ],
   "source": [
    "y.shape"
   ]
  },
  {
   "cell_type": "code",
   "execution_count": 21,
   "metadata": {},
   "outputs": [
    {
     "data": {
      "text/plain": [
       "(240000,)"
      ]
     },
     "execution_count": 21,
     "metadata": {},
     "output_type": "execute_result"
    }
   ],
   "source": [
    "y.shape # sadece Xe karşılık gelen yerleri alıcaz o yüzden fazla olması normal.X kırpılmış halde"
   ]
  },
  {
   "cell_type": "code",
   "execution_count": null,
   "metadata": {},
   "outputs": [],
   "source": []
  }
 ],
 "metadata": {
  "@webio": {
   "lastCommId": null,
   "lastKernelId": null
  },
  "kernelspec": {
   "display_name": "Python 3",
   "language": "python",
   "name": "python3"
  },
  "language_info": {
   "codemirror_mode": {
    "name": "ipython",
    "version": 3
   },
   "file_extension": ".py",
   "mimetype": "text/x-python",
   "name": "python",
   "nbconvert_exporter": "python",
   "pygments_lexer": "ipython3",
   "version": "3.7.3"
  }
 },
 "nbformat": 4,
 "nbformat_minor": 2
}
=======
  ]
}
>>>>>>> b0b552b346a9a097de76d6387bbbea3115b1fafb
