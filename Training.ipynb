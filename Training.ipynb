{
 "cells": [
  {
   "cell_type": "code",
   "execution_count": null,
   "metadata": {},
   "outputs": [],
   "source": [
    "!pip install import_ipynb\n",
    "!pip3 install wheel\n",
    "!pip install pygco\n"
   ]
  },
  {
   "cell_type": "code",
   "execution_count": null,
   "metadata": {},
   "outputs": [],
   "source": [
    "%run preprocess.ipynb\n",
    "%run clustering.ipynb\n",
    "%run graph_cut.ipynb\n",
    "%run ImageMetric.ipynb"
   ]
  },
  {
   "cell_type": "code",
   "execution_count": null,
   "metadata": {},
   "outputs": [],
   "source": [
    "from sklearn.decomposition import PCA\n",
    "from sklearn import preprocessing\n",
    "from sklearn import svm\n",
    "from sklearn.preprocessing import scale\n",
    "from sklearn.preprocessing import MinMaxScaler\n",
    "from sklearn.svm import LinearSVC\n",
    "import pickle"
   ]
  },
  {
   "cell_type": "code",
   "execution_count": null,
   "metadata": {},
   "outputs": [],
   "source": [
    "def create_train_set(filename,number_of_colors = 32,window = 15):\n",
    "    size = 600, 400\n",
    "    im = Image.open(filename)\n",
    "    im_resized = im.resize(size, Image.ANTIALIAS)\n",
    "    im_lab = cv2.cvtColor(np.array(im_resized),cv2.COLOR_BGR2LAB)\n",
    "    im_lab_np = np.array(im_lab)\n",
    "    grayscale_img = im_lab[:,:,0]\n",
    "    y,centers = create_label(im_lab_np[:,:,1:],number_of_colors ,window)#number of colors and window size\n",
    "    feature_vector = all_feature_vector(grayscale_img,window)#window\n",
    "    feature_vector = np.transpose(feature_vector)\n",
    "    min_max_scaler = MinMaxScaler()\n",
    "    feature_vector = min_max_scaler.fit_transform(feature_vector)\n",
    "    pca = PCA(n_components=30)\n",
    "    pca.fit(feature_vector)\n",
    "    print(pca.explained_variance_ratio_)\n",
    "    x = pca.transform(feature_vector)\n",
    "    return x , y,centers,pca,min_max_scaler,grayscale_img[int(window/2):-int(window/2), int(window/2):-int(window/2)]"
   ]
  },
  {
   "cell_type": "code",
   "execution_count": null,
   "metadata": {},
   "outputs": [],
   "source": [
    "def create_test_set(grayscale_img,pca,scaler,window=15):\n",
    "    feature_vector = all_feature_vector(grayscale_img,window)#window\n",
    "    feature_vector = np.transpose(feature_vector)\n",
    "    feature_vector = scaler.transform(feature_vector)\n",
    "    x_test = pca.transform(feature_vector)\n",
    "    return x_test"
   ]
  },
  {
   "cell_type": "code",
   "execution_count": null,
   "metadata": {},
   "outputs": [],
   "source": [
    "def train_svm(x,y,number_of_colors, c = 1):\n",
    "    svm_arr = []\n",
    "    for i in range(number_of_colors):\n",
    "        y_train = (y == i).astype(int)\n",
    "        svm = LinearSVC(dual=False, class_weight='balanced',C=c)\n",
    "        svm.fit(x,  y_train)\n",
    "        svm_arr.append(svm)\n",
    "    return svm_arr"
   ]
  },
  {
   "cell_type": "code",
   "execution_count": null,
   "metadata": {},
   "outputs": [],
   "source": [
    "def test_svm(svm_arr,feature_vector,row_number,column_number):\n",
    "    margins_arr = []\n",
    "    for i in range(row_number*column_number):\n",
    "        margins = []\n",
    "        for svm in svm_arr:\n",
    "            marg = -1.0*(svm.decision_function(feature_vector[i:i+1,:])[0])\n",
    "            margins.append(marg)\n",
    "        margins_arr.append(margins)\n",
    "        \n",
    "    margins_arr = np.array(margins_arr)\n",
    "    return np.reshape(margins_arr,(row_number,column_number,-1))"
   ]
  },
  {
   "cell_type": "code",
   "execution_count": null,
   "metadata": {},
   "outputs": [],
   "source": [
    "def create_image(grayscale_img, centers,result):\n",
    "    image = np.zeros((grayscale_img.shape[0],grayscale_img.shape[1],3))\n",
    "    for i in range(grayscale_img.shape[0]):\n",
    "        for k in range(grayscale_img.shape[1]):\n",
    "            image[i,k,0] = grayscale_img[i,k]\n",
    "            image[i,k,1:] = centers[result[i,k]]\n",
    "    return image"
   ]
  },
  {
   "cell_type": "code",
   "execution_count": null,
   "metadata": {},
   "outputs": [],
   "source": [
    "def lab_to_rgb(image):\n",
    "    new_image_show = np.zeros((image.shape[0],image.shape[1],3)) \n",
    "    new_image_show[:,:,0] = image[:,:,0] *100 /255\n",
    "    new_image_show[:,:,1] =image[:,:,1] - 128\n",
    "    new_image_show[:,:,2] =image[:,:,2] - 128\n",
    "    a = lab2rgb(new_image_show)\n",
    "    return np.flip(a,axis=2)"
   ]
  },
  {
   "cell_type": "code",
   "execution_count": null,
   "metadata": {},
   "outputs": [],
   "source": [
    "def convert_test_image(filename):\n",
    "    size = 600, 400\n",
    "    im = Image.open(filename)\n",
    "    im_resized = im.resize(size, Image.ANTIALIAS)\n",
    "    im_lab = cv2.cvtColor(np.array(im_resized),cv2.COLOR_BGR2LAB)\n",
    "    im_lab_np = np.array(im_lab)\n",
    "    grayscale_img = im_lab[:,:,0]\n",
    "    return grayscale_img,im_resized,im_lab[:,:,1:]"
   ]
  },
  {
   "cell_type": "code",
   "execution_count": null,
   "metadata": {},
   "outputs": [],
   "source": [
    "x,y,centers,pca,min_max_scaler,gray_scale = create_train_set(\"try.jpeg\")#pca will be used for the test projection"
   ]
  },
  {
   "cell_type": "code",
   "execution_count": null,
   "metadata": {},
   "outputs": [],
   "source": [
    "grayscale_test, original_test,original_ab = convert_test_image(\"test.jpg\")"
   ]
  },
  {
   "cell_type": "code",
   "execution_count": null,
   "metadata": {},
   "outputs": [],
   "source": [
    "x_test = create_test_set(grayscale_test,pca,min_max_scaler)"
   ]
  },
  {
   "cell_type": "code",
   "execution_count": null,
   "metadata": {},
   "outputs": [],
   "source": [
    "svm_arr = train_svm(x,y.flatten(),32)"
   ]
  },
  {
   "cell_type": "code",
   "execution_count": null,
   "metadata": {},
   "outputs": [],
   "source": [
    "window = 15\n",
    "margin = test_svm(svm_arr,x_test,grayscale_test.shape[0]-window+1,grayscale_test.shape[1]-window+1)"
   ]
  },
  {
   "cell_type": "code",
   "execution_count": null,
   "metadata": {},
   "outputs": [],
   "source": [
    "result = graph_cut2(grayscale_test[int(window/2):-int(window/2), int(window/2):-int(window/2)], margin,centers,32,alpha=16)"
   ]
  },
  {
   "cell_type": "code",
   "execution_count": null,
   "metadata": {},
   "outputs": [],
   "source": [
    "predicted_image = create_image(grayscale_test[int(window/2):-int(window/2), int(window/2):-int(window/2)], centers,result)"
   ]
  },
  {
   "cell_type": "code",
   "execution_count": null,
   "metadata": {},
   "outputs": [],
   "source": [
    "#print(np.sum(predicted_rgb < 0))\n",
    "predicted_rgb = lab_to_rgb(predicted_image)\n",
    "plt.imshow(predicted_rgb)"
   ]
  },
  {
   "cell_type": "code",
   "execution_count": null,
   "metadata": {},
   "outputs": [],
   "source": [
    "error,best_case = get_error(predicted_image[:,:,1:],original_ab[int(window/2):-int(window/2), int(window/2):-int(window/2)],centers,grayscale_test[int(window/2):-int(window/2), int(window/2):-int(window/2)])\n",
    "print(\"Error: \")\n",
    "print(error)"
   ]
  },
  {
   "cell_type": "code",
   "execution_count": null,
   "metadata": {},
   "outputs": [],
   "source": [
    "#plt.imsave(\"result.jpg\",predicted_image)\n",
    "#necessary = (svm_arr, margin,centers)\n",
    "# save the classifier\n",
    "#with open('necessary.pkl', 'wb') as fid:\n",
    "#     pickle.dump(necessary , fid)   "
   ]
  },
  {
   "cell_type": "code",
   "execution_count": null,
   "metadata": {},
   "outputs": [],
   "source": [
    "#with open('necessary.pkl', 'rb') as fid:\n",
    "#    necessary= pickle.load(fid)"
   ]
  }
 ],
 "metadata": {
  "@webio": {
   "lastCommId": null,
   "lastKernelId": null
  },
  "kernelspec": {
   "display_name": "Python 3",
   "language": "python",
   "name": "python3"
  },
  "language_info": {
   "codemirror_mode": {
    "name": "ipython",
    "version": 3
   },
   "file_extension": ".py",
   "mimetype": "text/x-python",
   "name": "python",
   "nbconvert_exporter": "python",
   "pygments_lexer": "ipython3",
   "version": "3.7.3"
  }
 },
 "nbformat": 4,
 "nbformat_minor": 2
}
