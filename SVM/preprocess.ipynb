{
 "cells": [
  {
   "cell_type": "code",
   "execution_count": null,
   "metadata": {},
   "outputs": [],
   "source": [
    "!pip install opencv-python==3.4.2.16\n",
    "!pip install opencv-contrib-python==3.4.2.16\n",
    "import numpy as np\n",
    "from scipy.misc import imread, imresize\n",
    "import matplotlib.pyplot as plt\n",
    "import imageio\n",
    "from PIL import Image\n",
    "import cv2"
   ]
  },
  {
   "cell_type": "code",
   "execution_count": null,
   "metadata": {},
   "outputs": [],
   "source": [
    "#size = 600, 400\n",
    "#im = Image.open(\"try.jpg\")\n",
    "#im_resized = im.resize(size, Image.ANTIALIAS)"
   ]
  },
  {
   "cell_type": "code",
   "execution_count": null,
   "metadata": {
    "scrolled": false
   },
   "outputs": [],
   "source": [
    "#plt.imshow(im_resized)"
   ]
  },
  {
   "cell_type": "code",
   "execution_count": null,
   "metadata": {},
   "outputs": [],
   "source": [
    "#image = np.array(im_resized)"
   ]
  },
  {
   "cell_type": "code",
   "execution_count": null,
   "metadata": {},
   "outputs": [],
   "source": [
    "#image.shape ## 400 *600 *3 "
   ]
  },
  {
   "cell_type": "code",
   "execution_count": null,
   "metadata": {},
   "outputs": [],
   "source": [
    "#convert it to gray scale"
   ]
  },
  {
   "cell_type": "code",
   "execution_count": null,
   "metadata": {},
   "outputs": [],
   "source": [
    "#img_gray_scale = im_resized.convert('L')"
   ]
  },
  {
   "cell_type": "code",
   "execution_count": null,
   "metadata": {},
   "outputs": [],
   "source": [
    "#img_gray_np = np.array(img_gray_scale)"
   ]
  },
  {
   "cell_type": "code",
   "execution_count": null,
   "metadata": {},
   "outputs": [],
   "source": [
    "#plt.imshow(img_gray_np, cmap='gray', vmin=0, vmax=255)"
   ]
  },
  {
   "cell_type": "code",
   "execution_count": null,
   "metadata": {},
   "outputs": [],
   "source": [
    "#img_gray_np = img_gray_np #imageyi normalize etmeye gerek yok bence"
   ]
  },
  {
   "cell_type": "code",
   "execution_count": null,
   "metadata": {},
   "outputs": [],
   "source": [
    "##Test fft\n",
    "#sequence  \n",
    "#ar1 = np.random.rand(225)\n",
    "# fft \n",
    "#transform = np.fft.fft(ar1) \n",
    "#a= np.abs(transform)"
   ]
  },
  {
   "cell_type": "code",
   "execution_count": null,
   "metadata": {},
   "outputs": [],
   "source": [
    "#Test Surf\n",
    "import cv2"
   ]
  },
  {
   "cell_type": "code",
   "execution_count": null,
   "metadata": {},
   "outputs": [],
   "source": [
    "#surf = cv2.xfeatures2d.SURF_create(extended = 1)#128 feature veriyor şu an\n",
    "#key_point = cv2.KeyPoint(25, 25, 15)\n",
    "#result = surf.compute(grayscale_img,key_point)\n",
    "#_,a = surf.compute(img_gray_np,[key_point])\n",
    "#surf.compute(img,key_point)\n",
    "#img_gray_np\n",
    "#a"
   ]
  },
  {
   "cell_type": "code",
   "execution_count": null,
   "metadata": {},
   "outputs": [],
   "source": [
    "#qab = q[:, :, 1:3]\n",
    "#ql = q[:, :, 0]\n",
    "# the luminosity for computing surf parameters must be an integer and is offset by 128 compared to self.l\n",
    "#self.l = self.lab[:, :, 0]"
   ]
  },
  {
   "cell_type": "code",
   "execution_count": null,
   "metadata": {},
   "outputs": [],
   "source": [
    "#self.rgb = cv2.imread(filename)\n",
    "#self.lab = cv2.cvtColor(self.rgb, cv.CV_BGR2Lab)\n",
    "#self.ab = self.lab[:, :, 1:3]\n",
    "# the luminosity for computing surf parameters must be an integer and is offset by 128 compared to self.l\n",
    "#self.l = self.lab[:, :, 0]\n"
   ]
  },
  {
   "cell_type": "code",
   "execution_count": null,
   "metadata": {},
   "outputs": [],
   "source": [
    "def all_feature_vector(grayscale_img,window):\n",
    "    x = len(grayscale_img[:,0])\n",
    "    y = len(grayscale_img[0,:])\n",
    "    length = len(feature_vector(int(window/2 + 1),int(window/2 + 1),window,grayscale_img))##bir kere burada çağırıldı\n",
    "    feature = np.zeros((length,(x-window+1)*(y-window+1)))\n",
    "    count = 0\n",
    "    for r in range(int(window/2), x-int(window/2)):\n",
    "        for c in range(int(window/2), y-int(window/2)):\n",
    "            pixel_vector = feature_vector(r,c,window,grayscale_img)\n",
    "            feature[:,count] = pixel_vector\n",
    "            count = count +1\n",
    "    return feature"
   ]
  },
  {
   "cell_type": "code",
   "execution_count": null,
   "metadata": {},
   "outputs": [],
   "source": [
    "def feature_vector(x,y,window,grayscale_img):\n",
    "    sigma1 = 1.0\n",
    "    sigma2 = 1.5\n",
    "    ftf = create_ftf_vector(x,y,window,grayscale_img)\n",
    "    surf1 = create_surf_vector(x,y,window,grayscale_img)\n",
    "    surf2 = create_surf_vector(x,y,window,cv2.GaussianBlur(grayscale_img, (0, 0), sigma1))\n",
    "    surf3 = create_surf_vector(x,y,window,cv2.GaussianBlur(grayscale_img, (0, 0), sigma2))\n",
    "    mean_var = create_meanvar_vector(x,y,window,grayscale_img)\n",
    "    return np.concatenate((ftf.flatten(),surf1.flatten(),surf2.flatten(),surf3.flatten(),mean_var.flatten()))"
   ]
  },
  {
   "cell_type": "code",
   "execution_count": null,
   "metadata": {},
   "outputs": [],
   "source": [
    "def create_ftf_vector(x,y,window,grayscale_img):\n",
    "    points = neighbors(x,y,window,grayscale_img)\n",
    "    result = np.abs(np.fft.fft(points.reshape(-1)))\n",
    "    return result             \n",
    "\n"
   ]
  },
  {
   "cell_type": "code",
   "execution_count": null,
   "metadata": {},
   "outputs": [],
   "source": [
    "def create_surf_vector(x,y,window,grayscale_img):\n",
    "    surf = cv2.xfeatures2d.SURF_create(extended = 1)#128 feature veriyor şu an\n",
    "    key_point = cv2.KeyPoint(y, x, window)\n",
    "    _,result = surf.compute(grayscale_img,[key_point])\n",
    "    return result\n"
   ]
  },
  {
   "cell_type": "code",
   "execution_count": null,
   "metadata": {},
   "outputs": [],
   "source": [
    "def create_meanvar_vector(x,y,window,grayscale_img): #add mean variance and luminance itself\n",
    "    result = []\n",
    "    luminance = [grayscale_img[x,y]]\n",
    "    points = neighbors(x,y,window,grayscale_img)\n",
    "    mean = [np.mean(points)]\n",
    "    var = [np.var(points)]\n",
    "    result.append(var)\n",
    "    result.append(mean)\n",
    "    #result.append(luminance)\n",
    "    return np.array(result)"
   ]
  },
  {
   "cell_type": "code",
   "execution_count": null,
   "metadata": {},
   "outputs": [],
   "source": [
    "def neighbors(x,y,window,grayscale_img): #return the all window pixels centered at p.\n",
    "    startx = x - int(window/2)\n",
    "    finishx = x + int(window/2) +1\n",
    "    starty = y - int(window/2)\n",
    "    finishy = y + int(window/2) +1\n",
    "    return grayscale_img[startx:finishx, starty:finishy] "
   ]
  },
  {
   "cell_type": "code",
   "execution_count": null,
   "metadata": {
    "scrolled": true
   },
   "outputs": [],
   "source": [
    "#size = 600, 400\n",
    "#im = Image.open(\"try.jpg\")\n",
    "#im_resized = im.resize(size, Image.ANTIALIAS)\n",
    "#img = cv2.imread('try.jpg') ##Surf yaparken 256ya bölme. Fft yaparken de bölmeyebilirsin belki de.\n",
    "\n",
    "#im_resized = img.resize(size, Image.ANTIALIAS)\n",
    "#qlab = cv2.cvtColor(np.array(im_resized),cv2.COLOR_BGR2LAB)##LAB dimensions kullanılacak.\n",
    "#grayscale_img = qlab[:,:,0]\n",
    "#print(grayscale_img)\n",
    "#np_grayscale_img = np.array(grayscale_img)\n",
    "#print(np_grayscale_img.shape)\n",
    "#plt.imshow(np_grayscale_img, cmap='gray', vmin=0, vmax=255)"
   ]
  },
  {
   "cell_type": "code",
   "execution_count": null,
   "metadata": {},
   "outputs": [],
   "source": [
    "#window = 15\n",
    "#vector = all_feature_vector(np.array(grayscale_img),window)"
   ]
  },
  {
   "cell_type": "code",
   "execution_count": null,
   "metadata": {},
   "outputs": [],
   "source": [
    "#a = np.random.rand(9)\n",
    "#b = np.random.rand(8)"
   ]
  },
  {
   "cell_type": "code",
   "execution_count": null,
   "metadata": {},
   "outputs": [],
   "source": [
    "#np.concatenate((a,b))"
   ]
  },
  {
   "cell_type": "code",
   "execution_count": null,
   "metadata": {},
   "outputs": [],
   "source": [
    "#x = np.array(vector)"
   ]
  },
  {
   "cell_type": "code",
   "execution_count": null,
   "metadata": {},
   "outputs": [],
   "source": [
    "#vector.shape"
   ]
  },
  {
   "cell_type": "code",
   "execution_count": null,
   "metadata": {},
   "outputs": [],
   "source": [
    "#vector[:,-1]"
   ]
  },
  {
   "cell_type": "code",
   "execution_count": null,
   "metadata": {},
   "outputs": [],
   "source": [
    "def pca(feature_vector):\n",
    "    centered = np.add(feature_vector,-np.mean(feature_vector,axis=1).reshape(-1,1))\n",
    "    return np.linalg.svd(centered)"
   ]
  },
  {
   "cell_type": "code",
   "execution_count": null,
   "metadata": {},
   "outputs": [],
   "source": [
    "#np.random.shuffle(np.transpose(vector))\n",
    "#np.random.shuffle(np.transpose(vector))\n",
    "#u,e,v, = pca(vector[:,0:10000])"
   ]
  },
  {
   "cell_type": "code",
   "execution_count": null,
   "metadata": {},
   "outputs": [],
   "source": [
    "#(sum(e[0:30]) / sum(e))\n",
    "\n"
   ]
  },
  {
   "cell_type": "code",
   "execution_count": null,
   "metadata": {},
   "outputs": [],
   "source": [
    "#arr = []\n",
    "#s = sum(e)\n",
    "#th = 0\n",
    "#for i in range(len(e)):\n",
    " #   arr.append((sum(e[0:i+1]) /s))\n",
    "  #  if (sum(e[0:i+1]) /s) == 1:\n",
    "   #     th = i\n",
    "    #if i > 200:\n",
    "     #   break\n"
   ]
  },
  {
   "cell_type": "code",
   "execution_count": null,
   "metadata": {},
   "outputs": [],
   "source": [
    "#y = range(th)\n",
    "#plt.plot(y,arr[0:th])\n",
    "#plt.xlabel('Number of Components')\n",
    "#plt.ylabel('Variance')\n",
    "#plt.title('Number of Components vs Variance ')\n",
    "#plt.legend(['Handled Variance'])\n",
    "#plt.show()\n",
    "#print(th)\n",
    "#print(len(arr))"
   ]
  },
  {
   "cell_type": "code",
   "execution_count": null,
   "metadata": {},
   "outputs": [],
   "source": [
    "#np.mean(vector[:,0:10000],axis=1).shape"
   ]
  },
  {
   "cell_type": "code",
   "execution_count": null,
   "metadata": {},
   "outputs": [],
   "source": [
    "#q = np.random.rand(3,4)\n",
    "#q"
   ]
  },
  {
   "cell_type": "code",
   "execution_count": null,
   "metadata": {},
   "outputs": [],
   "source": [
    "#np.mean(q,axis=1)"
   ]
  },
  {
   "cell_type": "code",
   "execution_count": null,
   "metadata": {},
   "outputs": [],
   "source": [
    "#h = np.array([[2,3,4],[2,3]])"
   ]
  },
  {
   "cell_type": "code",
   "execution_count": null,
   "metadata": {},
   "outputs": [],
   "source": [
    "#q = np.random.rand(3,4)\n",
    "#q"
   ]
  },
  {
   "cell_type": "code",
   "execution_count": null,
   "metadata": {},
   "outputs": [],
   "source": []
  },
  {
   "cell_type": "code",
   "execution_count": null,
   "metadata": {},
   "outputs": [],
   "source": [
    "#np.random.shuffle(np.transpose(q))\n",
    "#np.random.shuffle(np.transpose(q))"
   ]
  },
  {
   "cell_type": "code",
   "execution_count": null,
   "metadata": {},
   "outputs": [],
   "source": [
    "#q"
   ]
  },
  {
   "cell_type": "code",
   "execution_count": null,
   "metadata": {},
   "outputs": [],
   "source": []
  },
  {
   "cell_type": "code",
   "execution_count": null,
   "metadata": {},
   "outputs": [],
   "source": [
    "#x = np.random.normal(0,10,(500,10))"
   ]
  },
  {
   "cell_type": "code",
   "execution_count": null,
   "metadata": {},
   "outputs": [],
   "source": [
    "#y = np.random.rand(500)*10"
   ]
  },
  {
   "cell_type": "code",
   "execution_count": null,
   "metadata": {},
   "outputs": [],
   "source": [
    "#y = y.astype(int)"
   ]
  },
  {
   "cell_type": "code",
   "execution_count": null,
   "metadata": {},
   "outputs": [],
   "source": [
    "#clf_total = LinearSVC()\n",
    "#clf_total.fit(x,y)"
   ]
  },
  {
   "cell_type": "code",
   "execution_count": null,
   "metadata": {},
   "outputs": [],
   "source": [
    "#clf_total.decision_function(x[0:2,:])"
   ]
  },
  {
   "cell_type": "code",
   "execution_count": null,
   "metadata": {},
   "outputs": [],
   "source": [
    "#clf_total.predict(x)"
   ]
  },
  {
   "cell_type": "code",
   "execution_count": null,
   "metadata": {},
   "outputs": [],
   "source": [
    "#svm_list = []\n",
    "#for i in range(10):\n",
    " #   y_loc = (y == i).astype(int)\n",
    "  #  clf_local = LinearSVC(dual=False,class_weight='balanced')\n",
    "   # clf_local.fit(x,y_loc )\n",
    "    #svm_list.append(clf_local)"
   ]
  },
  {
   "cell_type": "code",
   "execution_count": null,
   "metadata": {},
   "outputs": [],
   "source": [
    "#svm_list[0].decision_function(x[0,:])"
   ]
  },
  {
   "cell_type": "code",
   "execution_count": null,
   "metadata": {},
   "outputs": [],
   "source": [
    "#clf_total_dif = svm.SVC(kernel=\"linear\")\n",
    "#clf_total_dif.fit(x,y)"
   ]
  },
  {
   "cell_type": "code",
   "execution_count": null,
   "metadata": {},
   "outputs": [],
   "source": [
    "#clf_total_dif.decision_function(x[1])"
   ]
  },
  {
   "cell_type": "code",
   "execution_count": null,
   "metadata": {},
   "outputs": [],
   "source": [
    "#clf_total_dif = svm.SVC(kernel=\"linear\")"
   ]
  },
  {
   "cell_type": "code",
   "execution_count": null,
   "metadata": {},
   "outputs": [],
   "source": [
    "#clf_total_dif.fit(x,y)"
   ]
  },
  {
   "cell_type": "code",
   "execution_count": null,
   "metadata": {},
   "outputs": [],
   "source": [
    "#c = LinearSVC()"
   ]
  },
  {
   "cell_type": "code",
   "execution_count": null,
   "metadata": {},
   "outputs": [],
   "source": [
    "#c.fit(x,y)"
   ]
  },
  {
   "cell_type": "code",
   "execution_count": null,
   "metadata": {},
   "outputs": [],
   "source": []
  },
  {
   "cell_type": "code",
   "execution_count": null,
   "metadata": {},
   "outputs": [],
   "source": []
  }
 ],
 "metadata": {
  "@webio": {
   "lastCommId": null,
   "lastKernelId": null
  },
  "kernelspec": {
   "display_name": "Python 3",
   "language": "python",
   "name": "python3"
  },
  "language_info": {
   "codemirror_mode": {
    "name": "ipython",
    "version": 3
   },
   "file_extension": ".py",
   "mimetype": "text/x-python",
   "name": "python",
   "nbconvert_exporter": "python",
   "pygments_lexer": "ipython3",
   "version": "3.7.3"
  }
 },
 "nbformat": 4,
 "nbformat_minor": 2
}
