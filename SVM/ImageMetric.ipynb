{
 "cells": [
  {
   "cell_type": "code",
   "execution_count": 2,
   "metadata": {},
   "outputs": [],
   "source": [
    "def get_error(prediction_ab, original_ab, centers,grayscale_img):##both prediction and original are clipped\n",
    "    norm_arr = np.zeros((original_ab.shape[0],original_ab.shape[1]))\n",
    "    best_case = np.zeros((original_ab.shape[0],original_ab.shape[1],3))\n",
    "    best_case[:,:,0] = grayscale_img\n",
    "    for i in range(original_ab.shape[0]):\n",
    "        for k in range(original_ab.shape[1]):\n",
    "            #find best case\n",
    "            min_norm = math.inf\n",
    "            min_index = -1\n",
    "            for c in range(len(centers)):\n",
    "                norm = np.linalg.norm(original_ab[i,k,:] - centers[c])\n",
    "                if norm < min_norm:\n",
    "                    min_norm = norm\n",
    "                    min_index = c\n",
    "            norm_arr[i,k] = np.linalg.norm(centers[min_index] - prediction_ab[i, k,:])\n",
    "            best_case[i,k,1:] = centers[min_index] \n",
    "    return np.sum(norm_arr)/(original_ab.shape[0]*original_ab.shape[1]),best_case"
   ]
  },
  {
   "cell_type": "code",
   "execution_count": null,
   "metadata": {},
   "outputs": [],
   "source": []
  }
 ],
 "metadata": {
  "kernelspec": {
   "display_name": "Python 3",
   "language": "python",
   "name": "python3"
  },
  "language_info": {
   "codemirror_mode": {
    "name": "ipython",
    "version": 3
   },
   "file_extension": ".py",
   "mimetype": "text/x-python",
   "name": "python",
   "nbconvert_exporter": "python",
   "pygments_lexer": "ipython3",
   "version": "3.7.3"
  }
 },
 "nbformat": 4,
 "nbformat_minor": 2
}
